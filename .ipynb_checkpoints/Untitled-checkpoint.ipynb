{
 "cells": [
  {
   "cell_type": "code",
   "execution_count": 54,
   "metadata": {},
   "outputs": [
    {
     "name": "stdout",
     "output_type": "stream",
     "text": [
      "Welcome to the Measurement Converter\n",
      "----------------------------\n",
      "Now Supporting: \n",
      "----------------------------\n",
      "inches, feet,miles,yards,\n",
      "meters,decimeters,centimeters,millimeters\n",
      "----------------------------\n",
      "What would you convert to what?\n",
      "(example: \"10 Miles to Meters\")\n",
      "----------------------------\n",
      "10 meters are approximately 10.94 yards\n"
     ]
    }
   ],
   "source": [
    "print ('Welcome to the Measurement Converter\\n\\\n",
    "----------------------------\\n\\\n",
    "Now Supporting: \\n\\\n",
    "----------------------------\\n\\\n",
    "inches, feet,miles,yards,\\n\\\n",
    "meters,decimeters,centimeters,millimeters\\n\\\n",
    "----------------------------\\n\\\n",
    "What would you convert to what?\\n\\\n",
    "(example: \"10 Miles to Meters\")\\n\\\n",
    "----------------------------')\n",
    "\n",
    "mode = '10 meters to yards'#input('Input: ')\n",
    "mode = mode.lower().split()\n",
    "\n",
    "inch = [1, 'inch']\n",
    "feet_inch = [inch[0]/12,'feet','foot']\n",
    "mile_inch = [inch[0] * 0.00001578,'mile']\n",
    "yard_inch = [inch[0] *0.02778,'yard']\n",
    "\n",
    "meter_inch = [inch[0]*0.0254,'meter']\n",
    "kilo_inch = [meter_inch[0]/1000,'kilo' ]\n",
    "deci_inch = [meter_inch[0]*10,'deci' ]\n",
    "centi_inch = [meter_inch[0]*100,'centi' ]\n",
    "milli_inch = [meter_inch[0]*1000, 'milli']\n",
    "\n",
    "imperial_inch = [inch,feet_inch,mile_inch,yard_inch]\n",
    "metric_inch =  [meter_inch,kilo_inch,deci_inch,centi_inch,milli_inch]\n",
    "\n",
    "options_inch = imperial_inch + metric_inch\n",
    "\n",
    "inch = [1, 'inch']\n",
    "inch_feet = [inch[0]*12,'feet','foot']\n",
    "inch_mile = [inch[0] / 0.00001578,'mile']\n",
    "inch_yard = [inch[0] /0.02778,'yard']\n",
    "\n",
    "inch_meter = [inch[0]/0.0254,'meter']\n",
    "inch_kilo = [inch_meter[0]*1000,'kilo' ]\n",
    "inch_deci = [inch_meter[0]/10,'deci' ]\n",
    "inch_centi = [inch_meter[0]/100,'centi' ]\n",
    "inch_milli = [inch_meter[0]/1000, 'milli']\n",
    "\n",
    "inch_imperial = [inch,inch_feet,inch_mile,inch_yard]\n",
    "inch_metric = [inch_deci,inch_kilo,inch_centi,inch_milli,inch_meter]\n",
    "inch_options = inch_imperial + inch_metric\n",
    "is_looping = True\n",
    "out = 3\n",
    "for unit in inch_options:\n",
    "    if unit[1] in mode[1]:\n",
    "        inch = unit\n",
    "        for conversion in options_inch:\n",
    "            if conversion[1] in mode[3]:\n",
    "                out = conversion[0] * inch[0] * float(mode[0])\n",
    "                is_looping = False\n",
    "                break \n",
    "    if not is_looping:\n",
    "        break \n",
    "out = round(out,2)\n",
    "\n",
    "print (f'{mode[0]} {mode[1]} are approximately {out} {mode[3]}')\n"
   ]
  },
  {
   "cell_type": "code",
   "execution_count": null,
   "metadata": {},
   "outputs": [],
   "source": []
  }
 ],
 "metadata": {
  "kernelspec": {
   "display_name": "Python [conda env:pythonData]",
   "language": "python",
   "name": "conda-env-pythonData-py"
  },
  "language_info": {
   "codemirror_mode": {
    "name": "ipython",
    "version": 3
   },
   "file_extension": ".py",
   "mimetype": "text/x-python",
   "name": "python",
   "nbconvert_exporter": "python",
   "pygments_lexer": "ipython3",
   "version": "3.6.7"
  }
 },
 "nbformat": 4,
 "nbformat_minor": 2
}
