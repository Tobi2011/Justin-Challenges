{
 "cells": [
  {
   "cell_type": "code",
   "execution_count": null,
   "metadata": {},
   "outputs": [],
   "source": [
    "#Pareto Distribution\n",
    "\n",
    "alpha = 3 #is a positive parameter which determines the concentration of data towards the mode\n",
    "x_m = 1000 #is the minimum possible value of X\n",
    "#x is a random variable (x>x_m)\n",
    "x_lower = 2000\n",
    "x_higher = 4000\n",
    "pareto = alpha * (x_m ** alpha)/(x_lower ** (alpha+1))\n",
    "\n",
    "while x_lower < 2100:\n",
    "    pareto += alpha * (x_m ** alpha)/(x_lower ** (alpha+1))\n",
    "    x_lower += 1\n",
    "    \n",
    "pareto"
   ]
  }
 ],
 "metadata": {
  "kernelspec": {
   "display_name": "Python [conda env:pythonData]",
   "language": "python",
   "name": "conda-env-pythonData-py"
  },
  "language_info": {
   "codemirror_mode": {
    "name": "ipython",
    "version": 3
   },
   "file_extension": ".py",
   "mimetype": "text/x-python",
   "name": "python",
   "nbconvert_exporter": "python",
   "pygments_lexer": "ipython3",
   "version": "3.6.7"
  }
 },
 "nbformat": 4,
 "nbformat_minor": 2
}
