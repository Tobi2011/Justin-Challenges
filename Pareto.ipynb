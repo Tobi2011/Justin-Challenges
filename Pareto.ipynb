{
 "cells": [
  {
   "cell_type": "code",
   "execution_count": 65,
   "metadata": {},
   "outputs": [
    {
     "ename": "SyntaxError",
     "evalue": "invalid syntax (<ipython-input-65-ebd50f62b7fe>, line 6)",
     "output_type": "error",
     "traceback": [
      "\u001b[1;36m  File \u001b[1;32m\"<ipython-input-65-ebd50f62b7fe>\"\u001b[1;36m, line \u001b[1;32m6\u001b[0m\n\u001b[1;33m    alpha = int(input('Provide an Alpha: ')) #is a positive parameter which determines the concentration of data towards the mode\u001b[0m\n\u001b[1;37m        ^\u001b[0m\n\u001b[1;31mSyntaxError\u001b[0m\u001b[1;31m:\u001b[0m invalid syntax\n"
     ]
    }
   ],
   "source": [
    "#Pareto Distribution\n",
    "import matplotlib.pyplot as plt\n",
    "\n",
    "print(' Alpha is a positive parameter which determines\\n\\\n",
    "the concentration of data towards the mode)'\n",
    "alpha = int(input('Provide an Alpha: ')) #is a positive parameter which determines the concentration of data towards the mode\n",
    "print('x_m is the minimum possible value of X')\n",
    "x_m = int(input('Prive a minimum X: ')) #is the minimum possible value of X\n",
    "print ('x is a random variable (x>x_m)\\n\\\n",
    "pick the lower an upper bounds')\n",
    "x_lower = int(input('Lower bound: '))\n",
    "x_higher = int(input('Upper bound: '))\n",
    "pareto = alpha * (x_m ** alpha)/(x_lower ** (alpha+1))\n",
    "variance = ((x_m**2)*alpha)/((alpha-1)**2)/(alpha-2)\n",
    "cdf += 1-(x_m/x_lower)**alpha\n",
    "\n",
    "while x_lower < 4000:\n",
    "    pareto += alpha * (x_m ** alpha)/(x_lower ** (alpha+1))\n",
    "    x_lower += 1\n",
    "\n",
    "\n",
    "    \n",
    "print(f'Probability = {pareto}')\n",
    "print(f'Cumulative density = {cdf}')\n",
    "print(f'Variance = {variance}')"
   ]
  },
  {
   "cell_type": "code",
   "execution_count": 56,
   "metadata": {},
   "outputs": [],
   "source": [
    "y_axis = []\n",
    "x_axis = []\n",
    "x = x_m\n",
    "x_high = 10000\n",
    "while x < x_high:\n",
    "    pareto += alpha * (x_m ** alpha)/(x ** (alpha+1))\n",
    "    x += 1\n",
    "    x_axis.append(x)\n",
    "    y_axis.append(alpha * (x_m ** alpha)/(x ** (alpha+1)))"
   ]
  },
  {
   "cell_type": "code",
   "execution_count": 62,
   "metadata": {},
   "outputs": [
    {
     "data": {
      "image/png": "[encoded data removed]",
      "text/plain": [
       "<Figure size 432x288 with 1 Axes>"
      ]
     },
     "metadata": {
      "needs_background": "light"
     },
     "output_type": "display_data"
    }
   ],
   "source": [
    "\n",
    "pareto_plot = plt.plot(x_axis,y_axis)\n",
    "plt.xlim([x_m,x_high/2])\n",
    "plt.ylim([0,y_axis[0]])\n",
    "plt.show()\n"
   ]
  }
 ],
 "metadata": {
  "kernelspec": {
   "display_name": "Python [conda env:pythonData]",
   "language": "python",
   "name": "conda-env-pythonData-py"
  },
  "language_info": {
   "codemirror_mode": {
    "name": "ipython",
    "version": 3
   },
   "file_extension": ".py",
   "mimetype": "text/x-python",
   "name": "python",
   "nbconvert_exporter": "python",
   "pygments_lexer": "ipython3",
   "version": "3.6.7"
  }
 },
 "nbformat": 4,
 "nbformat_minor": 2
}
