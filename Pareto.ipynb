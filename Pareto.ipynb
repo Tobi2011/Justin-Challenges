{
 "cells": [
  {
   "cell_type": "code",
   "execution_count": 6,
   "metadata": {},
   "outputs": [
    {
     "name": "stdout",
     "output_type": "stream",
     "text": [
      " Alpha is a positive parameter which determines\n",
      "the concentration of data towards the mode)\n",
      "Provide an Alpha: 4\n",
      "x_m is the minimum possible value of X\n",
      "Prive a minimum X: 1000\n",
      "x is a random variable (x>x_m)\n",
      "pick the lower an upper bounds\n",
      "Lower bound: 2000\n",
      "Upper bound: 4000\n"
     ]
    }
   ],
   "source": [
    "#Pareto Distribution\n",
    "import matplotlib.pyplot as plt\n",
    "\n",
    "print(' Alpha is a positive parameter which determines\\n\\\n",
    "the concentration of data towards the mode)')\n",
    "alpha = int(input('Provide an Alpha: ')) #is a positive parameter which determines the concentration of data towards the mode\n",
    "print('x_m is the minimum possible value of X')\n",
    "x_m = int(input('Prive a minimum X: ')) #is the minimum possible value of X\n",
    "print ('x is a random variable (x>x_m)\\n\\\n",
    "pick the lower an upper bounds')\n",
    "x_lower = int(input('Lower bound: '))\n",
    "x_higher = int(input('Upper bound: '))"
   ]
  },
  {
   "cell_type": "code",
   "execution_count": 11,
   "metadata": {},
   "outputs": [
    {
     "name": "stdout",
     "output_type": "stream",
     "text": [
      "Probability = 3.90625e-06\n",
      "Mean = 1333.3333333333333\n",
      "Variance = 222222.22222222222\n"
     ]
    }
   ],
   "source": [
    "pareto = alpha * (x_m ** alpha)/(x_lower ** (alpha+1))\n",
    "variance = ((x_m**2)*alpha)/((alpha-1)**2)/(alpha-2)\n",
    "cdf = 1-(x_m/x_lower)**alpha\n",
    "mean = alpha*x_m/(alpha-1)\n",
    "\n",
    "while x_lower < 4000:\n",
    "    pareto += alpha * (x_m ** alpha)/(x_lower ** (alpha+1))\n",
    "    x_lower += 1\n",
    "    cdf += 1-(x_m/x_lower)**alpha\n",
    "\n",
    "\n",
    "    \n",
    "print(f'Probability = {pareto}')\n",
    "print(f'Mean = {mean}')\n",
    "print(f'Variance = {variance}')"
   ]
  },
  {
   "cell_type": "code",
   "execution_count": 8,
   "metadata": {},
   "outputs": [],
   "source": [
    "y_axis = []\n",
    "x_axis = []\n",
    "y_axis_cdf = []\n",
    "\n",
    "x = x_m\n",
    "x_high = 10000\n",
    "while x < x_high:\n",
    "    pareto += alpha * (x_m ** alpha)/(x ** (alpha+1))\n",
    "    x += 1\n",
    "    x_axis.append(x)\n",
    "    y_axis.append(alpha * (x_m ** alpha)/(x ** (alpha+1)))\n",
    "    y_axis_cdf.append(1-(x_m/x)**alpha)"
   ]
  },
  {
   "cell_type": "code",
   "execution_count": 9,
   "metadata": {},
   "outputs": [
    {
     "data": {
      "image/png": "[encoded data removed]",
      "text/plain": [
       "<Figure size 432x288 with 1 Axes>"
      ]
     },
     "metadata": {
      "needs_background": "light"
     },
     "output_type": "display_data"
    }
   ],
   "source": [
    "\n",
    "pareto_plot = plt.plot(x_axis,y_axis)\n",
    "# plt.xlim([x_m,x_high/2])\n",
    "# plt.ylim([0,y_axis[0]])\n",
    "plt.show()\n"
   ]
  },
  {
   "cell_type": "code",
   "execution_count": 10,
   "metadata": {},
   "outputs": [
    {
     "data": {
      "image/png": "[encoded data removed]",
      "text/plain": [
       "<Figure size 432x288 with 1 Axes>"
      ]
     },
     "metadata": {
      "needs_background": "light"
     },
     "output_type": "display_data"
    }
   ],
   "source": [
    "cdf_plot = plt.plot(x_axis,y_axis_cdf)\n",
    "\n",
    "plt.show()"
   ]
  }
 ],
 "metadata": {
  "kernelspec": {
   "display_name": "Python [conda env:pythonData]",
   "language": "python",
   "name": "conda-env-pythonData-py"
  },
  "language_info": {
   "codemirror_mode": {
    "name": "ipython",
    "version": 3
   },
   "file_extension": ".py",
   "mimetype": "text/x-python",
   "name": "python",
   "nbconvert_exporter": "python",
   "pygments_lexer": "ipython3",
   "version": "3.6.7"
  }
 },
 "nbformat": 4,
 "nbformat_minor": 2
}
